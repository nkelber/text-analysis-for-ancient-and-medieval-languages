{
 "cells": [
  {
   "cell_type": "code",
   "execution_count": null,
   "id": "cleared-insert",
   "metadata": {},
   "outputs": [],
   "source": []
  },
  {
   "cell_type": "code",
   "execution_count": null,
   "id": "urban-underwear",
   "metadata": {},
   "outputs": [],
   "source": []
  },
  {
   "cell_type": "markdown",
   "id": "smaller-making",
   "metadata": {},
   "source": [
    "## The Problems of NLP in Under-Resourced Languages"
   ]
  },
  {
   "cell_type": "code",
   "execution_count": null,
   "id": "traditional-registration",
   "metadata": {},
   "outputs": [],
   "source": []
  },
  {
   "cell_type": "code",
   "execution_count": null,
   "id": "decreased-abraham",
   "metadata": {},
   "outputs": [],
   "source": []
  },
  {
   "cell_type": "markdown",
   "id": "hundred-suicide",
   "metadata": {},
   "source": [
    "## Getting the Data from PDF to Text"
   ]
  },
  {
   "cell_type": "code",
   "execution_count": 1,
   "id": "induced-victim",
   "metadata": {},
   "outputs": [],
   "source": [
    "#Source for this section is another TAP Institute Course by Hannah Jacobs => https://hub.binder.constellate.org/user/hlj24-tapi_2021_ocr-ncsnihj6/notebooks/01-WhatIsOCR.ipynb"
   ]
  },
  {
   "cell_type": "code",
   "execution_count": 2,
   "id": "surface-morris",
   "metadata": {},
   "outputs": [],
   "source": [
    "# Install tesseract on Binder.\n",
    "# The exclamation runs the command as a terminal command.\n",
    "# This may take 1-2 minutes.\n",
    "# Source: Nathan Kelber & JStor Labs Constellate team.\n",
    "!conda install -c conda-forge -y tesseract"
   ]
  },
  {
   "cell_type": "code",
   "execution_count": 3,
   "id": "broke-pearl",
   "metadata": {},
   "outputs": [],
   "source": [
    "!wget https://github.com/tesseract-ocr/tessdata/raw/master/eng.traineddata\n",
    "!mv eng.traineddata /srv/conda/envs/notebook/share/tessdata/eng.traineddata"
   ]
  },
  {
   "cell_type": "code",
   "execution_count": null,
   "id": "infectious-graphic",
   "metadata": {},
   "outputs": [],
   "source": []
  },
  {
   "cell_type": "code",
   "execution_count": 4,
   "id": "increasing-birthday",
   "metadata": {},
   "outputs": [],
   "source": [
    "# # Import the Image module from the Pillow Library, which will help us access the image.\n",
    "# from PIL import Image\n",
    "\n",
    "# # Import the pytesseract library, which will run the OCR process.\n",
    "import pytesseract\n",
    "\n",
    "# # Open a specific image file, convert the text in the image to computer-readable text (OCR),\n",
    "# # and then print the results for us to see here.\n",
    "# print(pytesseract.image_to_string(Image.open(\"data/sample_mgh.JPG\"), lang=\"lat\"))"
   ]
  },
  {
   "cell_type": "code",
   "execution_count": 5,
   "id": "protecting-surface",
   "metadata": {},
   "outputs": [],
   "source": [
    "import cv2\n",
    "image = cv2.imread(\"data/sample_mgh.JPG\")\n",
    "base_image = image.copy()"
   ]
  },
  {
   "cell_type": "code",
   "execution_count": 6,
   "id": "violent-elizabeth",
   "metadata": {},
   "outputs": [],
   "source": [
    "def find_footnote_line(image, base_image):\n",
    "    \n",
    "    gray = cv2.cvtColor(image, cv2.COLOR_BGR2GRAY)\n",
    "    blur = cv2.GaussianBlur(gray, (3,3), 0)\n",
    "    thresh = cv2.threshold(blur, 0, 255, cv2.THRESH_BINARY_INV + cv2.THRESH_OTSU)[1]\n",
    "    kernal = cv2.getStructuringElement(cv2.MORPH_RECT, (3, 10))\n",
    "    dilate = cv2.dilate(thresh, kernal, iterations=1)\n",
    "    cnts = cv2.findContours(dilate, cv2.RETR_EXTERNAL, cv2.CHAIN_APPROX_SIMPLE)\n",
    "    cnts = cnts[0] if len(cnts) == 2 else cnts[1]\n",
    "    cnts = sorted(cnts, key=lambda x: cv2.boundingRect(x)[1])\n",
    "    main_line = []\n",
    "    for c in cnts:\n",
    "        x,y,w,h = cv2.boundingRect(c)\n",
    "        if h < 25 and w > 250:\n",
    "            roi = base_image[y:y+h, x:x+w]\n",
    "#             cv2.rectangle(image, (x,y), (x+w, y+h), (36, 255, 12), 2)\n",
    "            main_line.append([x,y,w,h])\n",
    "    cv2.imwrite(\"data/sample_boxes.png\", image)\n",
    "    return (main_line)"
   ]
  },
  {
   "cell_type": "code",
   "execution_count": 7,
   "id": "attended-developer",
   "metadata": {},
   "outputs": [
    {
     "data": {
      "text/plain": [
       "True"
      ]
     },
     "execution_count": 7,
     "metadata": {},
     "output_type": "execute_result"
    }
   ],
   "source": [
    "main_line = find_footnote_line(image, base_image)\n",
    "x,y,w,h = main_line[0]\n",
    "new = base_image[25:y, 0:-25]\n",
    "cv2.imwrite(\"data/extraction.png\", new)"
   ]
  },
  {
   "cell_type": "code",
   "execution_count": 8,
   "id": "faced-opinion",
   "metadata": {},
   "outputs": [],
   "source": [
    "image = cv2.imread(\"data/final.jpg\")\n",
    "def find_body(image, base_image):\n",
    "    gray = cv2.cvtColor(image, cv2.COLOR_BGR2GRAY)\n",
    "    blur = cv2.GaussianBlur(gray, (5,5), 0)\n",
    "    thresh = cv2.threshold(blur, 0, 255, cv2.THRESH_BINARY_INV + cv2.THRESH_OTSU)[1]\n",
    "    kernal = cv2.getStructuringElement(cv2.MORPH_RECT, (3, 50))\n",
    "    dilate = cv2.dilate(thresh, kernal, iterations=1)\n",
    "    cnts = cv2.findContours(dilate, cv2.RETR_EXTERNAL, cv2.CHAIN_APPROX_SIMPLE)\n",
    "    cnts = cnts[0] if len(cnts) == 2 else cnts[1]\n",
    "    cnts = sorted(cnts, key=lambda x: cv2.boundingRect(x)[1])\n",
    "    main_line = []\n",
    "    for c in cnts:\n",
    "        x,y,w,h = cv2.boundingRect(c)\n",
    "        if h > 200 and w > 250:\n",
    "            roi = base_image[y:y+h, x:x+w]\n",
    "#             cv2.rectangle(image, (x,y), (x+w, y+h), (36, 255, 12), 2)\n",
    "            main_line.append([x,y,w,h])\n",
    "    cv2.imwrite(\"data/body_text.png\", image)\n",
    "    return (roi)"
   ]
  },
  {
   "cell_type": "code",
   "execution_count": 9,
   "id": "bacterial-shift",
   "metadata": {},
   "outputs": [
    {
     "data": {
      "text/plain": [
       "True"
      ]
     },
     "execution_count": 9,
     "metadata": {},
     "output_type": "execute_result"
    }
   ],
   "source": [
    "final = find_body(new, base_image)\n",
    "cv2.imwrite(\"data/final.jpg\", final)"
   ]
  },
  {
   "cell_type": "code",
   "execution_count": 10,
   "id": "colored-iceland",
   "metadata": {},
   "outputs": [],
   "source": [
    "def find_paras(image, base_image):\n",
    "    base_image = image.copy()\n",
    "    gray = cv2.cvtColor(image, cv2.COLOR_BGR2GRAY)\n",
    "    blur = cv2.GaussianBlur(gray, (3,3), 0)\n",
    "    thresh = cv2.threshold(blur, 0, 255, cv2.THRESH_BINARY_INV + cv2.THRESH_OTSU)[1]\n",
    "    kernal = cv2.getStructuringElement(cv2.MORPH_RECT, (4, 4))\n",
    "    dilate = cv2.dilate(thresh, kernal, iterations=10)\n",
    "    cnts = cv2.findContours(dilate, cv2.RETR_EXTERNAL, cv2.CHAIN_APPROX_SIMPLE)\n",
    "    cnts = cnts[0] if len(cnts) == 2 else cnts[1]\n",
    "    cnts = sorted(cnts, key=lambda x: cv2.boundingRect(x)[1])\n",
    "    for c in cnts:\n",
    "        x,y,w,h = cv2.boundingRect(c)\n",
    "        if h > 200 and w > 600:\n",
    "            roi = base_image[y:y+h, x:x+w]\n",
    "            cv2.rectangle(image, (x,y), (x+w, y+h), (36, 255, 12), 2)\n",
    "    return (roi)"
   ]
  },
  {
   "cell_type": "code",
   "execution_count": 11,
   "id": "official-invite",
   "metadata": {},
   "outputs": [
    {
     "data": {
      "text/plain": [
       "True"
      ]
     },
     "execution_count": 11,
     "metadata": {},
     "output_type": "execute_result"
    }
   ],
   "source": [
    "last = find_paras(final, base_image)\n",
    "cv2.imwrite(\"data/last.jpg\", last)"
   ]
  },
  {
   "cell_type": "code",
   "execution_count": 19,
   "id": "moved-stroke",
   "metadata": {},
   "outputs": [
    {
     "name": "stdout",
     "output_type": "stream",
     "text": [
      "DILECTISSIMO* AMICO TOTIUS PROSPERITATIS PRAESENTIS ET AETERNAE\n",
      "BEATITUDINIS PERPETUAM SALUTEM.\n",
      "\n",
      "Magna mihi laetitia est de bona voluntate vestra, quam audivi a fratre nostro\n",
      "Benedicto! in vobis esse. Opto atque Deum deprecor, ut citius cum omni convenien-\n",
      "tia perficiatur. Seriptum est enim: 'Ne tardes converti ad dominum Deum; quia\n",
      "nescis, quid ventura pariat dies, Erue te de harum carcere tribulationum, quae in\n",
      "hoe mundo fidelium animos torquere solent\"; sicut scriptum est: *Multae tribulationes\n",
      "iustorum; ut, quod sequitur, tibi evenire merearis: 'Sed de his omnibus liberavit eos\n",
      "Dominus. Et cave diligentissime, ne qua te, aratrum Domini tenentem, iniustitia\n",
      "retro revocet. Nemo miles sarcinis alienis onustus ad bella bene procedit, nisi armis\n",
      "tantummodo victrieibus, vel ad defensionem sui vel ad laesionem adversarii.\n",
      "\n",
      "Omnia quae vobis demandare necessaria videbantur mihi fidelissimo fratri Bene-\n",
      "dieto dixi: loca, adiutorium et animi constantiam.\n",
      "\n",
      "Sed scire debes, quod in omni loco, ubi hominum conversatio est plurimorum,\n",
      "utrumque et boni et mali inveniuntur. Sed sapiens animus utrorumque utatur magi-\n",
      "sterio; id est, ut malorum caveat malitiam, et bonorum sequatur iustitiam. Mens\n",
      "regalis? quae homini data est, discernere debet, quae sint cavenda et quae sint se-\n",
      "quenda; nec multum de loco diffidere vel etiam confidere. Quia, si locus adiuvare\n",
      "potuisset, numquam angelus de caelo cecidisset vel homo in paradyso positus pec-\n",
      "casset. Sed regnum Dei, ut ipsa veritas ait, intra nosmetipsos quaerendum est. Et\n",
      "psalmista: \"Timete Dominum omnes sancti eius, quia nihil deest timentibus eum'.\n",
      "Timor Domini peccare vetat, dum homo ubique Dei sibi praesentiam agnoscit et timet.\n",
      "Quem* qui conscium habet cogitationum verborum vel operum suorum, hune habi-\n",
      "turus est et iudicem. Nec eum quicquam effugit nostri nec aliquid iniudicatum de-\n",
      "miserit; quia, sicut dietum est, unicuique reddet secundum opera sua, Dum tempus\n",
      "habemus, operemur bonum, quia post mortem non est tempus operandi, sed tempus\n",
      "mercedem recipiendi. Haee cogitans, carissime fili, tui ipsius curam habeto , memor,\n",
      "de quantis te liberavit Deus periculis. Illum ama et ad eius misericordiam conver-\n",
      "tere, ut deleantur delicta tua et merearis locum refrigerii lucis et pacis recipere cum\n",
      "sanctis Dei. Meique memor cum Dei servientibus pro teque intercedentibus valeas\n",
      "perpetua prosperitate, dulcissime amice.\n",
      "\f",
      "\n"
     ]
    }
   ],
   "source": [
    "ocr_result = pytesseract.image_to_string(last, lang=\"lat\")\n",
    "print (ocr_result)"
   ]
  },
  {
   "cell_type": "code",
   "execution_count": 20,
   "id": "rational-preliminary",
   "metadata": {},
   "outputs": [
    {
     "name": "stdout",
     "output_type": "stream",
     "text": [
      "4\n"
     ]
    }
   ],
   "source": [
    "sections = ocr_result.split(\"\\n\\n\")\n",
    "print (len(sections))"
   ]
  },
  {
   "cell_type": "code",
   "execution_count": 27,
   "id": "physical-optimization",
   "metadata": {},
   "outputs": [
    {
     "name": "stdout",
     "output_type": "stream",
     "text": [
      "DILECTISSIMO AMICO TOTIUS PROSPERITATIS PRAESENTIS ET AETERNAE BEATITUDINIS PERPETUAM SALUTEM.\n",
      "\n",
      "Magna mihi laetitia est de bona voluntate vestra, quam audivi a fratre nostro Benedicto! in vobis esse. Opto atque Deum deprecor, ut citius cum omni convenientia perficiatur. Seriptum est enim: 'Ne tardes converti ad dominum Deum; quia nescis, quid ventura pariat dies, Erue te de harum carcere tribulationum, quae in hoe mundo fidelium animos torquere solent'; sicut scriptum est: Multae tribulationes iustorum; ut, quod sequitur, tibi evenire merearis: 'Sed de his omnibus liberavit eos Dominus. Et cave diligentissime, ne qua te, aratrum Domini tenentem, iniustitia retro revocet. Nemo miles sarcinis alienis onustus ad bella bene procedit, nisi armis tantummodo victrieibus, vel ad defensionem sui vel ad laesionem adversarii.\n",
      "\n",
      "Omnia quae vobis demandare necessaria videbantur mihi fidelissimo fratri Benedieto dixi: loca, adiutorium et animi constantiam.\n",
      "\n",
      "Sed scire debes, quod in omni loco, ubi hominum conversatio est plurimorum, utrumque et boni et mali inveniuntur. Sed sapiens animus utrorumque utatur magisterio; id est, ut malorum caveat malitiam, et bonorum sequatur iustitiam. Mens regalis? quae homini data est, discernere debet, quae sint cavenda et quae sint sequenda; nec multum de loco diffidere vel etiam confidere. Quia, si locus adiuvare potuisset, numquam angelus de caelo cecidisset vel homo in paradyso positus peccasset. Sed regnum Dei, ut ipsa veritas ait, intra nosmetipsos quaerendum est. Et psalmista: 'Timete Dominum omnes sancti eius, quia nihil deest timentibus eum'. Timor Domini peccare vetat, dum homo ubique Dei sibi praesentiam agnoscit et timet. Quem qui conscium habet cogitationum verborum vel operum suorum, hune habiturus est et iudicem. Nec eum quicquam effugit nostri nec aliquid iniudicatum demiserit; quia, sicut dietum est, unicuique reddet secundum opera sua, Dum tempus habemus, operemur bonum, quia post mortem non est tempus operandi, sed tempus mercedem recipiendi. Haee cogitans, carissime fili, tui ipsius curam habeto, memor, de quantis te liberavit Deus periculis. Illum ama et ad eius misericordiam convertere, ut deleantur delicta tua et merearis locum refrigerii lucis et pacis recipere cum sanctis Dei. Meique memor cum Dei servientibus pro teque intercedentibus valeas perpetua prosperitate, dulcissime amice. \f",
      "\n"
     ]
    }
   ],
   "source": [
    "final_sections = []\n",
    "for sec in sections:\n",
    "    sec = sec.replace(\"-\\n\", \"\")\n",
    "    sec = sec.replace(\"\\n\", \" \")\n",
    "    sec = sec.replace(\" ,\", \",\").replace(\" .\", \".\").replace(\" ;\", \";\").replace(\"*\", \" \").replace(\"\\\"\", \"\\'\")\n",
    "    while \"  \" in sec:\n",
    "        sec = sec.replace(\"  \", \" \")\n",
    "    final_sections.append(sec)\n",
    "cleaned_text = \"\\n\\n\".join(final_sections)\n",
    "print (cleaned_text)"
   ]
  },
  {
   "cell_type": "code",
   "execution_count": null,
   "id": "existing-pride",
   "metadata": {},
   "outputs": [],
   "source": []
  },
  {
   "cell_type": "code",
   "execution_count": null,
   "id": "virtual-marble",
   "metadata": {},
   "outputs": [],
   "source": []
  },
  {
   "cell_type": "code",
   "execution_count": null,
   "id": "funny-pharmaceutical",
   "metadata": {},
   "outputs": [],
   "source": []
  },
  {
   "cell_type": "markdown",
   "id": "architectural-sheriff",
   "metadata": {},
   "source": [
    "## Introduction to Word Embeddings"
   ]
  },
  {
   "cell_type": "code",
   "execution_count": 13,
   "id": "introductory-bulletin",
   "metadata": {},
   "outputs": [],
   "source": [
    "import fasttext"
   ]
  },
  {
   "cell_type": "code",
   "execution_count": 14,
   "id": "functioning-spokesman",
   "metadata": {},
   "outputs": [],
   "source": [
    "model = fasttext.train_unsupervised(\"data/100.txt\")"
   ]
  },
  {
   "cell_type": "code",
   "execution_count": 15,
   "id": "satellite-argument",
   "metadata": {},
   "outputs": [],
   "source": [
    "def find_matches(search_word):\n",
    "    res =  model.get_nearest_neighbors(search_word)\n",
    "    return (res)"
   ]
  },
  {
   "cell_type": "code",
   "execution_count": 16,
   "id": "accomplished-auditor",
   "metadata": {},
   "outputs": [],
   "source": [
    "find_matches(\"Carolus\")"
   ]
  },
  {
   "cell_type": "code",
   "execution_count": 17,
   "id": "streaming-dating",
   "metadata": {},
   "outputs": [],
   "source": [
    "def find_relationships(base_word, is_to, second_word):\n",
    "    as_blank = model.get_analogies(base_word, is_to, second_word)\n",
    "    return (as_blank)"
   ]
  },
  {
   "cell_type": "code",
   "execution_count": 18,
   "id": "settled-manor",
   "metadata": {},
   "outputs": [],
   "source": [
    "find_relationships(\"Carolus\", \"rex\", \"abbas\")"
   ]
  },
  {
   "cell_type": "code",
   "execution_count": null,
   "id": "african-dictionary",
   "metadata": {},
   "outputs": [],
   "source": []
  }
 ],
 "metadata": {
  "kernelspec": {
   "display_name": "Python 3",
   "language": "python",
   "name": "python3"
  },
  "language_info": {
   "codemirror_mode": {
    "name": "ipython",
    "version": 3
   },
   "file_extension": ".py",
   "mimetype": "text/x-python",
   "name": "python",
   "nbconvert_exporter": "python",
   "pygments_lexer": "ipython3",
   "version": "3.9.2"
  }
 },
 "nbformat": 4,
 "nbformat_minor": 5
}
